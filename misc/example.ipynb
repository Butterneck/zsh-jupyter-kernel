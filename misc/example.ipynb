{
 "cells": [
  {
   "cell_type": "code",
   "execution_count": 1,
   "metadata": {},
   "outputs": [
    {
     "name": "stdout",
     "output_type": "stream",
     "text": [
      "    ___     _          __       _     \n",
      "   / / |__ (_)_ __    / /______| |__  \n",
      "  / /| '_ \\| | '_ \\  / /_  / __| '_ \\ \n",
      " / / | |_) | | | | |/ / / /\\__ \\ | | |\n",
      "/_/  |_.__/|_|_| |_/_/ /___|___/_| |_|\n",
      "                                      \n"
     ]
    }
   ],
   "source": [
    "figlet $SHELL"
   ]
  },
  {
   "cell_type": "code",
   "execution_count": 2,
   "metadata": {},
   "outputs": [
    {
     "name": "stdout",
     "output_type": "stream",
     "text": []
    }
   ],
   "source": [
    "hr() { printf \"%-*s\\n\" $(tput cols) | tr ' ' '-' }"
   ]
  },
  {
   "cell_type": "code",
   "execution_count": 3,
   "metadata": {},
   "outputs": [
    {
     "name": "stdout",
     "output_type": "stream",
     "text": [
      "\u001b[33m5eb4198\u001b[m\u001b[33m (\u001b[m\u001b[1;36mHEAD -> \u001b[m\u001b[1;32mmaster\u001b[m\u001b[33m)\u001b[m ➕ pytest\u001b[m\n",
      "\u001b[33m9e8e1e7\u001b[m ➕ roadmap\u001b[m\n",
      "\u001b[33mc454967\u001b[m added dev-install script and pip install info\u001b[m\n",
      "\u001b[33m0236fde\u001b[m ⬆️ 2.1\u001b[m\n",
      "--------------------------------------------------------------------------------\n",
      " \u001b[31mM\u001b[m example.ipynb\n",
      "\u001b[32mM\u001b[m  zsh_kernel/conf.py\n",
      "\u001b[32mM\u001b[m  zsh_kernel/install.py\n",
      "\u001b[32mM\u001b[m\u001b[31mM\u001b[m zsh_kernel/kernel.py\n",
      "--------------------------------------------------------------------------------\n",
      ".gitignore       dev-install.sh  \u001b[36mzsh_kernel/\u001b[0m__init__.py\n",
      "CHANGELOG.md     example.ipynb   \u001b[36mzsh_kernel/\u001b[0m__main__.py\n",
      "CONTRIBUTING.md  \u001b[38;5;133mexample.png\u001b[0m     \u001b[36mzsh_kernel/\u001b[0mbanner.txt\n",
      "LICENSE          install.sh      \u001b[36mzsh_kernel/\u001b[0mconf.py\n",
      "Pipfile          lab.sh          \u001b[36mzsh_kernel/\u001b[0minstall.py\n",
      "Pipfile.lock     roadmap.md      \u001b[36mzsh_kernel/\u001b[0mkernel.py\n",
      "\u001b[1;4;33mREADME.md\u001b[0m        setup.py        \u001b[36mzsh_kernel/\u001b[0mkernel_test.py\n"
     ]
    }
   ],
   "source": [
    "git log --oneline ...2.0\n",
    "hr\n",
    "git status --short\n",
    "hr\n",
    "git ls-files | xargs exa"
   ]
  },
  {
   "cell_type": "code",
   "execution_count": null,
   "metadata": {},
   "outputs": [],
   "source": []
  }
 ],
 "metadata": {
  "kernelspec": {
   "display_name": "Z sell",
   "language": "zsh",
   "name": "zsh"
  },
  "language_info": {
   "codemirror_mode": "shell",
   "file_extension": ".zsh",
   "mimetype": "text/x-zsh",
   "name": "zsh",
   "pygments_lexer": "shell",
   "version": "5.3"
  }
 },
 "nbformat": 4,
 "nbformat_minor": 2
}
