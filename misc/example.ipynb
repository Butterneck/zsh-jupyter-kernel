{
 "cells": [
  {
   "cell_type": "code",
   "execution_count": 1,
   "metadata": {},
   "outputs": [
    {
     "name": "stdout",
     "output_type": "stream",
     "text": [
      "    ___     _          __       _     \n",
      "   / / |__ (_)_ __    / /______| |__  \n",
      "  / /| '_ \\| | '_ \\  / /_  / __| '_ \\ \n",
      " / / | |_) | | | | |/ / / /\\__ \\ | | |\n",
      "/_/  |_.__/|_|_| |_/_/ /___|___/_| |_|\n",
      "                                      \n"
     ]
    }
   ],
   "source": [
    "figlet $SHELL"
   ]
  },
  {
   "cell_type": "code",
   "execution_count": 2,
   "metadata": {},
   "outputs": [],
   "source": [
    "function hr { printf \"%-*s\\n\" $(tput cols) | tr ' ' '-' }"
   ]
  },
  {
   "cell_type": "code",
   "execution_count": 3,
   "metadata": {},
   "outputs": [
    {
     "name": "stdout",
     "output_type": "stream",
     "text": [
      "\u001b[33m761f059\u001b[m\u001b[33m (\u001b[m\u001b[1;36mHEAD -> \u001b[m\u001b[1;32mmaster\u001b[m\u001b[33m)\u001b[m not dumb. no.\n",
      "\u001b[33m87dd48b\u001b[m\u001b[33m (\u001b[m\u001b[1;31morigin/master\u001b[m\u001b[33m)\u001b[m fix #5 - continuation prompt is ignored and cmd is executed without it\n",
      "\u001b[33m167a42a\u001b[m allow kernel not to respond with any output indefinitely - fix for #4\n",
      "--------------------------------------------------------------------------------\n",
      " \u001b[31mM\u001b[m example.ipynb\n",
      " \u001b[31mM\u001b[m ../src/zsh_jupyter_kernel/config.py\n",
      "--------------------------------------------------------------------------------\n",
      "architecture.drawio.xml  \u001b[1;32mdev-install.sh\u001b[0m  install.sh\n",
      "\u001b[38;5;133marchitecture.png\u001b[0m         example.ipynb   intellij-idea.codestyle.json\n",
      "\u001b[38;5;133mcompletion.png\u001b[0m           \u001b[38;5;133mexample.png\u001b[0m     lab.sh\n",
      "\u001b[38;5;133mconsole.png\u001b[0m              \u001b[38;5;133minspection.png\u001b[0m  readme.md\n"
     ]
    }
   ],
   "source": [
    "git --no-pager log --oneline ...HEAD~3\n",
    "hr\n",
    "git status --short\n",
    "hr\n",
    "git ls-files | xargs exa"
   ]
  },
  {
   "cell_type": "code",
   "execution_count": null,
   "metadata": {},
   "outputs": [],
   "source": []
  }
 ],
 "metadata": {
  "kernelspec": {
   "display_name": "Z shell",
   "language": "zsh",
   "name": "zsh"
  },
  "language_info": {
   "codemirror_mode": "shell",
   "file_extension": ".zsh",
   "mimetype": "text/x-zsh",
   "name": "zsh",
   "pygments_lexer": "shell",
   "version": "5.7.1"
  }
 },
 "nbformat": 4,
 "nbformat_minor": 2
}
