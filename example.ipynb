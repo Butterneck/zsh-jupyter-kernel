{
 "cells": [
  {
   "cell_type": "code",
   "execution_count": 1,
   "metadata": {},
   "outputs": [
    {
     "name": "stdout",
     "output_type": "stream",
     "text": [
      "    ___     _          __       _     \n",
      "   / / |__ (_)_ __    / /______| |__  \n",
      "  / /| '_ \\| | '_ \\  / /_  / __| '_ \\ \n",
      " / / | |_) | | | | |/ / / /\\__ \\ | | |\n",
      "/_/  |_.__/|_|_| |_/_/ /___|___/_| |_|\n",
      "                                      \n"
     ]
    }
   ],
   "source": [
    "figlet $SHELL"
   ]
  },
  {
   "cell_type": "code",
   "execution_count": 2,
   "metadata": {},
   "outputs": [
    {
     "name": "stdout",
     "output_type": "stream",
     "text": []
    }
   ],
   "source": [
    "hr() { printf \"%-*s\\n\" $(tput cols) | tr ' ' '-' }"
   ]
  },
  {
   "cell_type": "code",
   "execution_count": 3,
   "metadata": {},
   "outputs": [
    {
     "name": "stdout",
     "output_type": "stream",
     "text": [
      ".gitignore\t\t\tlab.sh\n",
      "CHANGELOG.md\t\t\tsetup.py\n",
      "LICENSE\t\t\t\tzsh_kernel/__init__.py\n",
      "Pipfile\t\t\t\tzsh_kernel/__main__.py\n",
      "Pipfile.lock\t\t\tzsh_kernel/banner.txt\n",
      "README.md\t\t\tzsh_kernel/conf.py\n",
      "example.ipynb\t\t\tzsh_kernel/install.py\n",
      "example.png\t\t\tzsh_kernel/kernel.py\n",
      "install.sh\t\t\tzsh_kernel/kernel_test.py\n",
      "--------------------------------------------------------------------------------\n",
      " \u001b[31mM\u001b[m example.ipynb\n",
      " \u001b[31mM\u001b[m example.png\n",
      " \u001b[31mM\u001b[m zsh_kernel/kernel.py\n",
      "--------------------------------------------------------------------------------\n",
      "\u001b[33m1130ae1\u001b[m\u001b[33m (\u001b[m\u001b[1;36mHEAD -> \u001b[m\u001b[1;32mmaster\u001b[m\u001b[33m, \u001b[m\u001b[1;31morigin/master\u001b[m\u001b[33m)\u001b[m init banner\u001b[m\n",
      "\u001b[33mcb31489\u001b[m init pipenv\u001b[m\n",
      "\u001b[33m5680410\u001b[m\u001b[33m (\u001b[m\u001b[1;33mtag: 1.0\u001b[m\u001b[33m)\u001b[m 1.0\u001b[m\n",
      "\u001b[33ma5281c4\u001b[m Initial commit\u001b[m\n"
     ]
    }
   ],
   "source": [
    "git ls-files | xargs ls\n",
    "hr\n",
    "git status --short\n",
    "hr\n",
    "git log --oneline"
   ]
  },
  {
   "cell_type": "code",
   "execution_count": null,
   "metadata": {},
   "outputs": [],
   "source": []
  }
 ],
 "metadata": {
  "kernelspec": {
   "display_name": "Z sell",
   "language": "zsh",
   "name": "zsh"
  },
  "language_info": {
   "codemirror_mode": "shell",
   "file_extension": ".zsh",
   "mimetype": "text/x-zsh",
   "name": "zsh",
   "pygments_lexer": "shell",
   "version": "5.3"
  }
 },
 "nbformat": 4,
 "nbformat_minor": 2
}
