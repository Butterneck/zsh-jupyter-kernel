{
 "cells": [
  {
   "cell_type": "code",
   "execution_count": 1,
   "metadata": {},
   "outputs": [
    {
     "name": "stdout",
     "output_type": "stream",
     "text": [
      "/bin/zsh\r\n"
     ]
    }
   ],
   "source": [
    "print $SHELL"
   ]
  },
  {
   "cell_type": "code",
   "execution_count": 2,
   "metadata": {},
   "outputs": [
    {
     "name": "stdout",
     "output_type": "stream",
     "text": [
      ".\r\n",
      "├── CHANGELOG.md\r\n",
      "├── LICENSE\r\n",
      "├── Pipfile\r\n",
      "├── Pipfile.lock\r\n",
      "├── README.md\r\n",
      "├── example.ipynb\r\n",
      "├── example.png\r\n",
      "├── install.sh\r\n",
      "├── lab.sh\r\n",
      "├── setup.py\r\n",
      "├── zsh_kernel\r\n",
      "│   ├── __init__.py\r\n",
      "│   ├── __main__.py\r\n",
      "│   ├── conf.py\r\n",
      "│   ├── install.py\r\n",
      "│   ├── kernel.log\r\n",
      "│   ├── kernel.py\r\n",
      "│   ├── kernel_test.py\r\n",
      "│   └── pexpect.log\r\n",
      "└── zsh_kernel.egg-info\r\n",
      "    ├── PKG-INFO\r\n",
      "    ├── SOURCES.txt\r\n",
      "    ├── dependency_links.txt\r\n",
      "    ├── requires.txt\r\n",
      "    └── top_level.txt\r\n",
      "\r\n",
      "2 directories, 23 files\r\n"
     ]
    }
   ],
   "source": [
    "tree"
   ]
  },
  {
   "cell_type": "code",
   "execution_count": null,
   "metadata": {},
   "outputs": [],
   "source": []
  }
 ],
 "metadata": {
  "kernelspec": {
   "display_name": "Z sell",
   "language": "zsh",
   "name": "zsh"
  },
  "language_info": {
   "codemirror_mode": "shell",
   "file_extension": ".zsh",
   "mimetype": "text/x-zsh",
   "name": "zsh",
   "pygments_lexer": "shell",
   "version": "5.3"
  }
 },
 "nbformat": 4,
 "nbformat_minor": 2
}
